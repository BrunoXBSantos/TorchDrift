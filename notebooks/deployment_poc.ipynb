{
 "cells": [
  {
   "cell_type": "markdown",
   "id": "blond-league",
   "metadata": {},
   "source": [
    "# Deploying Drift Detection\n",
    "\n",
    "TorchDrift provides the tools you need to detect drift. But how do you actually get your model to monitor drift?\n",
    "This short tutorial shows how to use model hooks on your feature extractor to capture data to feed into the drift detector.\n"
   ]
  },
  {
   "cell_type": "code",
   "execution_count": 1,
   "id": "clean-preliminary",
   "metadata": {},
   "outputs": [],
   "source": [
    "import sys\n",
    "sys.path.insert(0, '../')\n",
    "\n",
    "import torch\n",
    "import torchvision\n",
    "import torchdrift\n",
    "import copy\n",
    "%matplotlib inline\n",
    "from matplotlib import pyplot\n",
    "\n",
    "\n",
    "device = \"cuda\""
   ]
  },
  {
   "cell_type": "code",
   "execution_count": 2,
   "id": "occupational-journal",
   "metadata": {},
   "outputs": [],
   "source": [
    "model = torchvision.models.resnet18(pretrained=True)\n",
    "model.eval().to(device)\n",
    "for p in model.parameters():\n",
    "    p.requires_grad_(False)\n",
    "\n",
    "    \n",
    "    \n",
    "detector = torchdrift.detectors.KernelMMDDriftDetector()\n",
    "\n"
   ]
  },
  {
   "cell_type": "code",
   "execution_count": 3,
   "id": "stone-metro",
   "metadata": {},
   "outputs": [],
   "source": [
    "val_transform = torchvision.transforms.Compose([\n",
    "    torchvision.transforms.Resize(size=256),\n",
    "    torchvision.transforms.CenterCrop(size=(224, 224)),\n",
    "    torchvision.transforms.ToTensor()])\n",
    "\n",
    "def normalize(x):\n",
    "    return torchvision.transforms.functional.normalize(x, mean=[0.485, 0.456, 0.406], std=[0.229, 0.224, 0.225])\n",
    "\n",
    "ds_train = torchvision.datasets.ImageFolder('./data/hymenoptera_data/train/',\n",
    "                                            transform=val_transform)\n",
    "ds_val = torchvision.datasets.ImageFolder('./data/hymenoptera_data/val/',\n",
    "                                          transform=val_transform)\n",
    "\n",
    "\n",
    "\n",
    "def fit_detector(N_train):\n",
    "    feature_extractor = copy.deepcopy(model)\n",
    "    feature_extractor.fc = torch.nn.Identity()\n",
    "    ref_input = normalize(torch.stack([ds_train[i][0] for i in torch.randperm(len(ds_train))[:N_train]]).cuda())\n",
    "    ref_features = feature_extractor(ref_input)\n",
    "\n",
    "    detector.fit(ref_features)\n",
    "\n",
    "fit_detector(N_train = 100)"
   ]
  },
  {
   "cell_type": "code",
   "execution_count": null,
   "id": "controlled-polish",
   "metadata": {},
   "outputs": [],
   "source": []
  },
  {
   "cell_type": "code",
   "execution_count": 4,
   "id": "terminal-japan",
   "metadata": {},
   "outputs": [],
   "source": [
    "dl_val = torch.utils.data.DataLoader(ds_val, batch_size=64, shuffle=True)"
   ]
  },
  {
   "cell_type": "code",
   "execution_count": 5,
   "id": "speaking-transaction",
   "metadata": {},
   "outputs": [],
   "source": [
    "class ModelMonitor:\n",
    "    def __init__(self, drift_detector, feature_layer, N = 20, callback = None, callback_interval = 1):\n",
    "        self.N = N\n",
    "        base_outputs = drift_detector.base_outputs\n",
    "        self.drift_detector = drift_detector\n",
    "        assert base_outputs is not None, \"fit drift detector first\"\n",
    "        feature_dim = base_outputs.size(1)\n",
    "        self.feature_rb = torch.zeros(N, feature_dim, device=base_outputs.device, dtype=base_outputs.dtype)\n",
    "        self.have_full_round = False\n",
    "        self.next_idx = 0\n",
    "        self.hook = feature_layer.register_forward_hook(self.collect_hook)\n",
    "        self.counter = 0\n",
    "        self.callback = callback\n",
    "        self.callback_interval = callback_interval\n",
    "\n",
    "    def unhook(self):\n",
    "        self.hook.remove()\n",
    "\n",
    "    def collect_hook(self, module, input, output):\n",
    "        self.counter += 1\n",
    "        bs = output.size(0)\n",
    "        if bs > self.N:\n",
    "            output = output[-self.N:]\n",
    "            bs = self.N\n",
    "        output = output.reshape(bs, -1)\n",
    "        first_part = min(self.N - self.next_idx, bs)\n",
    "        self.feature_rb[self.next_idx: self.next_idx + first_part] = output[:first_part]\n",
    "        if first_part < bs:\n",
    "            self.feature_rb[: bs - first_part] = self.output[first_part:]\n",
    "        if not self.have_full_round and self.next_idx + bs >= self.N:\n",
    "            self.have_full_round = True\n",
    "        self.next_idx = (self.next_idx + bs) % self.N\n",
    "        if self.callback and self.have_full_round and self.counter % self.callback_interval == 0:\n",
    "            p_val = self.drift_detector.compute_p_value(self.feature_rb)\n",
    "            self.callback(p_val)\n",
    "\n",
    "    def plot(self):\n",
    "        import sklearn.manifold\n",
    "        from matplotlib import pyplot\n",
    "        \n",
    "        mapping = sklearn.manifold.Isomap()\n",
    "        ref = mapping.fit_transform(self.drift_detector.base_outputs.to(\"cpu\").numpy())\n",
    "\n",
    "        test = mapping.transform(self.feature_rb.to(\"cpu\").numpy())\n",
    "        pyplot.scatter(ref[:, 0], ref[:, 1])\n",
    "        pyplot.scatter(test[:, 0], test[:, 1])\n",
    "\n",
    "def alarm(p_value):\n",
    "    assert p_value > 0.01, \"Drift alarm!\"\n",
    "    \n",
    "mm = ModelMonitor(detector, model.avgpool, callback=alarm)\n"
   ]
  },
  {
   "cell_type": "code",
   "execution_count": 6,
   "id": "compressed-corpus",
   "metadata": {},
   "outputs": [],
   "source": [
    "it = iter(dl_val)\n",
    "batch = normalize(next(it)[0].to(device))\n",
    "\n",
    "batch_drifted = normalize(torchdrift.data.functional.gaussian_blur(next(it)[0].to(device), 5))\n"
   ]
  },
  {
   "cell_type": "code",
   "execution_count": 7,
   "id": "stretch-blink",
   "metadata": {},
   "outputs": [
    {
     "data": {
      "text/plain": [
       "tensor([[-7.7658e-01,  3.2179e+00, -1.2249e+00,  ...,  2.8282e-01,\n",
       "          2.9029e-01,  2.1828e-03],\n",
       "        [-1.8817e+00, -2.9643e-01,  1.5383e+00,  ..., -1.5474e+00,\n",
       "         -3.7729e-01, -4.0559e-01],\n",
       "        [-3.1957e+00,  1.1587e+00, -2.6124e+00,  ...,  1.4362e+00,\n",
       "          3.8517e+00, -2.6117e-01],\n",
       "        ...,\n",
       "        [-6.0883e-01,  1.3820e+00, -4.6136e-01,  ..., -2.2287e+00,\n",
       "         -8.9745e-01, -1.1200e-02],\n",
       "        [ 2.7868e+00,  1.8231e+00,  1.7386e+00,  ...,  1.0247e+00,\n",
       "          2.8079e+00, -6.6821e-01],\n",
       "        [ 7.4745e-01,  2.8122e+00,  1.0374e+00,  ...,  1.6652e+00,\n",
       "         -5.1658e-01,  8.6155e-01]], device='cuda:0')"
      ]
     },
     "execution_count": 7,
     "metadata": {},
     "output_type": "execute_result"
    }
   ],
   "source": [
    "model(batch)\n"
   ]
  },
  {
   "cell_type": "code",
   "execution_count": 8,
   "id": "regulation-capability",
   "metadata": {},
   "outputs": [
    {
     "data": {
      "text/plain": [
       "tensor(0.7140, device='cuda:0')"
      ]
     },
     "execution_count": 8,
     "metadata": {},
     "output_type": "execute_result"
    }
   ],
   "source": [
    "detector.compute_p_value(mm.feature_rb)"
   ]
  },
  {
   "cell_type": "code",
   "execution_count": 9,
   "id": "beneficial-energy",
   "metadata": {},
   "outputs": [
    {
     "data": {
      "image/png": "[encoded data removed]",
      "text/plain": [
       "<Figure size 432x288 with 1 Axes>"
      ]
     },
     "metadata": {
      "needs_background": "light"
     },
     "output_type": "display_data"
    }
   ],
   "source": [
    "mm.plot()"
   ]
  },
  {
   "cell_type": "code",
   "execution_count": 10,
   "id": "suspected-wedding",
   "metadata": {},
   "outputs": [
    {
     "ename": "AssertionError",
     "evalue": "Drift alarm!",
     "output_type": "error",
     "traceback": [
      "\u001b[0;31m---------------------------------------------------------------------------\u001b[0m",
      "\u001b[0;31mAssertionError\u001b[0m                            Traceback (most recent call last)",
      "\u001b[0;32m<ipython-input-10-bf4c9a25f81a>\u001b[0m in \u001b[0;36m<module>\u001b[0;34m\u001b[0m\n\u001b[1;32m      1\u001b[0m \u001b[0;31m# call it with drifted inputs...\u001b[0m\u001b[0;34m\u001b[0m\u001b[0;34m\u001b[0m\u001b[0;34m\u001b[0m\u001b[0m\n\u001b[0;32m----> 2\u001b[0;31m \u001b[0mmodel\u001b[0m\u001b[0;34m(\u001b[0m\u001b[0mbatch_drifted\u001b[0m\u001b[0;34m)\u001b[0m\u001b[0;34m\u001b[0m\u001b[0;34m\u001b[0m\u001b[0m\n\u001b[0m",
      "\u001b[0;32m/usr/local/lib/python3.9/dist-packages/torch/nn/modules/module.py\u001b[0m in \u001b[0;36m_call_impl\u001b[0;34m(self, *input, **kwargs)\u001b[0m\n\u001b[1;32m    887\u001b[0m             \u001b[0mresult\u001b[0m \u001b[0;34m=\u001b[0m \u001b[0mself\u001b[0m\u001b[0;34m.\u001b[0m\u001b[0m_slow_forward\u001b[0m\u001b[0;34m(\u001b[0m\u001b[0;34m*\u001b[0m\u001b[0minput\u001b[0m\u001b[0;34m,\u001b[0m \u001b[0;34m**\u001b[0m\u001b[0mkwargs\u001b[0m\u001b[0;34m)\u001b[0m\u001b[0;34m\u001b[0m\u001b[0;34m\u001b[0m\u001b[0m\n\u001b[1;32m    888\u001b[0m         \u001b[0;32melse\u001b[0m\u001b[0;34m:\u001b[0m\u001b[0;34m\u001b[0m\u001b[0;34m\u001b[0m\u001b[0m\n\u001b[0;32m--> 889\u001b[0;31m             \u001b[0mresult\u001b[0m \u001b[0;34m=\u001b[0m \u001b[0mself\u001b[0m\u001b[0;34m.\u001b[0m\u001b[0mforward\u001b[0m\u001b[0;34m(\u001b[0m\u001b[0;34m*\u001b[0m\u001b[0minput\u001b[0m\u001b[0;34m,\u001b[0m \u001b[0;34m**\u001b[0m\u001b[0mkwargs\u001b[0m\u001b[0;34m)\u001b[0m\u001b[0;34m\u001b[0m\u001b[0;34m\u001b[0m\u001b[0m\n\u001b[0m\u001b[1;32m    890\u001b[0m         for hook in itertools.chain(\n\u001b[1;32m    891\u001b[0m                 \u001b[0m_global_forward_hooks\u001b[0m\u001b[0;34m.\u001b[0m\u001b[0mvalues\u001b[0m\u001b[0;34m(\u001b[0m\u001b[0;34m)\u001b[0m\u001b[0;34m,\u001b[0m\u001b[0;34m\u001b[0m\u001b[0;34m\u001b[0m\u001b[0m\n",
      "\u001b[0;32m/usr/local/lib/python3.9/dist-packages/torchvision/models/resnet.py\u001b[0m in \u001b[0;36mforward\u001b[0;34m(self, x)\u001b[0m\n\u001b[1;32m    247\u001b[0m \u001b[0;34m\u001b[0m\u001b[0m\n\u001b[1;32m    248\u001b[0m     \u001b[0;32mdef\u001b[0m \u001b[0mforward\u001b[0m\u001b[0;34m(\u001b[0m\u001b[0mself\u001b[0m\u001b[0;34m,\u001b[0m \u001b[0mx\u001b[0m\u001b[0;34m:\u001b[0m \u001b[0mTensor\u001b[0m\u001b[0;34m)\u001b[0m \u001b[0;34m->\u001b[0m \u001b[0mTensor\u001b[0m\u001b[0;34m:\u001b[0m\u001b[0;34m\u001b[0m\u001b[0;34m\u001b[0m\u001b[0m\n\u001b[0;32m--> 249\u001b[0;31m         \u001b[0;32mreturn\u001b[0m \u001b[0mself\u001b[0m\u001b[0;34m.\u001b[0m\u001b[0m_forward_impl\u001b[0m\u001b[0;34m(\u001b[0m\u001b[0mx\u001b[0m\u001b[0;34m)\u001b[0m\u001b[0;34m\u001b[0m\u001b[0;34m\u001b[0m\u001b[0m\n\u001b[0m\u001b[1;32m    250\u001b[0m \u001b[0;34m\u001b[0m\u001b[0m\n\u001b[1;32m    251\u001b[0m \u001b[0;34m\u001b[0m\u001b[0m\n",
      "\u001b[0;32m/usr/local/lib/python3.9/dist-packages/torchvision/models/resnet.py\u001b[0m in \u001b[0;36m_forward_impl\u001b[0;34m(self, x)\u001b[0m\n\u001b[1;32m    240\u001b[0m         \u001b[0mx\u001b[0m \u001b[0;34m=\u001b[0m \u001b[0mself\u001b[0m\u001b[0;34m.\u001b[0m\u001b[0mlayer4\u001b[0m\u001b[0;34m(\u001b[0m\u001b[0mx\u001b[0m\u001b[0;34m)\u001b[0m\u001b[0;34m\u001b[0m\u001b[0;34m\u001b[0m\u001b[0m\n\u001b[1;32m    241\u001b[0m \u001b[0;34m\u001b[0m\u001b[0m\n\u001b[0;32m--> 242\u001b[0;31m         \u001b[0mx\u001b[0m \u001b[0;34m=\u001b[0m \u001b[0mself\u001b[0m\u001b[0;34m.\u001b[0m\u001b[0mavgpool\u001b[0m\u001b[0;34m(\u001b[0m\u001b[0mx\u001b[0m\u001b[0;34m)\u001b[0m\u001b[0;34m\u001b[0m\u001b[0;34m\u001b[0m\u001b[0m\n\u001b[0m\u001b[1;32m    243\u001b[0m         \u001b[0mx\u001b[0m \u001b[0;34m=\u001b[0m \u001b[0mtorch\u001b[0m\u001b[0;34m.\u001b[0m\u001b[0mflatten\u001b[0m\u001b[0;34m(\u001b[0m\u001b[0mx\u001b[0m\u001b[0;34m,\u001b[0m \u001b[0;36m1\u001b[0m\u001b[0;34m)\u001b[0m\u001b[0;34m\u001b[0m\u001b[0;34m\u001b[0m\u001b[0m\n\u001b[1;32m    244\u001b[0m         \u001b[0mx\u001b[0m \u001b[0;34m=\u001b[0m \u001b[0mself\u001b[0m\u001b[0;34m.\u001b[0m\u001b[0mfc\u001b[0m\u001b[0;34m(\u001b[0m\u001b[0mx\u001b[0m\u001b[0;34m)\u001b[0m\u001b[0;34m\u001b[0m\u001b[0;34m\u001b[0m\u001b[0m\n",
      "\u001b[0;32m/usr/local/lib/python3.9/dist-packages/torch/nn/modules/module.py\u001b[0m in \u001b[0;36m_call_impl\u001b[0;34m(self, *input, **kwargs)\u001b[0m\n\u001b[1;32m    891\u001b[0m                 \u001b[0m_global_forward_hooks\u001b[0m\u001b[0;34m.\u001b[0m\u001b[0mvalues\u001b[0m\u001b[0;34m(\u001b[0m\u001b[0;34m)\u001b[0m\u001b[0;34m,\u001b[0m\u001b[0;34m\u001b[0m\u001b[0;34m\u001b[0m\u001b[0m\n\u001b[1;32m    892\u001b[0m                 self._forward_hooks.values()):\n\u001b[0;32m--> 893\u001b[0;31m             \u001b[0mhook_result\u001b[0m \u001b[0;34m=\u001b[0m \u001b[0mhook\u001b[0m\u001b[0;34m(\u001b[0m\u001b[0mself\u001b[0m\u001b[0;34m,\u001b[0m \u001b[0minput\u001b[0m\u001b[0;34m,\u001b[0m \u001b[0mresult\u001b[0m\u001b[0;34m)\u001b[0m\u001b[0;34m\u001b[0m\u001b[0;34m\u001b[0m\u001b[0m\n\u001b[0m\u001b[1;32m    894\u001b[0m             \u001b[0;32mif\u001b[0m \u001b[0mhook_result\u001b[0m \u001b[0;32mis\u001b[0m \u001b[0;32mnot\u001b[0m \u001b[0;32mNone\u001b[0m\u001b[0;34m:\u001b[0m\u001b[0;34m\u001b[0m\u001b[0;34m\u001b[0m\u001b[0m\n\u001b[1;32m    895\u001b[0m                 \u001b[0mresult\u001b[0m \u001b[0;34m=\u001b[0m \u001b[0mhook_result\u001b[0m\u001b[0;34m\u001b[0m\u001b[0;34m\u001b[0m\u001b[0m\n",
      "\u001b[0;32m<ipython-input-5-b4905dc65aca>\u001b[0m in \u001b[0;36mcollect_hook\u001b[0;34m(self, module, input, output)\u001b[0m\n\u001b[1;32m     33\u001b[0m         \u001b[0;32mif\u001b[0m \u001b[0mself\u001b[0m\u001b[0;34m.\u001b[0m\u001b[0mcallback\u001b[0m \u001b[0;32mand\u001b[0m \u001b[0mself\u001b[0m\u001b[0;34m.\u001b[0m\u001b[0mhave_full_round\u001b[0m \u001b[0;32mand\u001b[0m \u001b[0mself\u001b[0m\u001b[0;34m.\u001b[0m\u001b[0mcounter\u001b[0m \u001b[0;34m%\u001b[0m \u001b[0mself\u001b[0m\u001b[0;34m.\u001b[0m\u001b[0mcallback_interval\u001b[0m \u001b[0;34m==\u001b[0m \u001b[0;36m0\u001b[0m\u001b[0;34m:\u001b[0m\u001b[0;34m\u001b[0m\u001b[0;34m\u001b[0m\u001b[0m\n\u001b[1;32m     34\u001b[0m             \u001b[0mp_val\u001b[0m \u001b[0;34m=\u001b[0m \u001b[0mself\u001b[0m\u001b[0;34m.\u001b[0m\u001b[0mdrift_detector\u001b[0m\u001b[0;34m.\u001b[0m\u001b[0mcompute_p_value\u001b[0m\u001b[0;34m(\u001b[0m\u001b[0mself\u001b[0m\u001b[0;34m.\u001b[0m\u001b[0mfeature_rb\u001b[0m\u001b[0;34m)\u001b[0m\u001b[0;34m\u001b[0m\u001b[0;34m\u001b[0m\u001b[0m\n\u001b[0;32m---> 35\u001b[0;31m             \u001b[0mself\u001b[0m\u001b[0;34m.\u001b[0m\u001b[0mcallback\u001b[0m\u001b[0;34m(\u001b[0m\u001b[0mp_val\u001b[0m\u001b[0;34m)\u001b[0m\u001b[0;34m\u001b[0m\u001b[0;34m\u001b[0m\u001b[0m\n\u001b[0m\u001b[1;32m     36\u001b[0m \u001b[0;34m\u001b[0m\u001b[0m\n\u001b[1;32m     37\u001b[0m     \u001b[0;32mdef\u001b[0m \u001b[0mplot\u001b[0m\u001b[0;34m(\u001b[0m\u001b[0mself\u001b[0m\u001b[0;34m)\u001b[0m\u001b[0;34m:\u001b[0m\u001b[0;34m\u001b[0m\u001b[0;34m\u001b[0m\u001b[0m\n",
      "\u001b[0;32m<ipython-input-5-b4905dc65aca>\u001b[0m in \u001b[0;36malarm\u001b[0;34m(p_value)\u001b[0m\n\u001b[1;32m     47\u001b[0m \u001b[0;34m\u001b[0m\u001b[0m\n\u001b[1;32m     48\u001b[0m \u001b[0;32mdef\u001b[0m \u001b[0malarm\u001b[0m\u001b[0;34m(\u001b[0m\u001b[0mp_value\u001b[0m\u001b[0;34m)\u001b[0m\u001b[0;34m:\u001b[0m\u001b[0;34m\u001b[0m\u001b[0;34m\u001b[0m\u001b[0m\n\u001b[0;32m---> 49\u001b[0;31m     \u001b[0;32massert\u001b[0m \u001b[0mp_value\u001b[0m \u001b[0;34m>\u001b[0m \u001b[0;36m0.01\u001b[0m\u001b[0;34m,\u001b[0m \u001b[0;34m\"Drift alarm!\"\u001b[0m\u001b[0;34m\u001b[0m\u001b[0;34m\u001b[0m\u001b[0m\n\u001b[0m\u001b[1;32m     50\u001b[0m \u001b[0;34m\u001b[0m\u001b[0m\n\u001b[1;32m     51\u001b[0m \u001b[0mmm\u001b[0m \u001b[0;34m=\u001b[0m \u001b[0mModelMonitor\u001b[0m\u001b[0;34m(\u001b[0m\u001b[0mdetector\u001b[0m\u001b[0;34m,\u001b[0m \u001b[0mmodel\u001b[0m\u001b[0;34m.\u001b[0m\u001b[0mavgpool\u001b[0m\u001b[0;34m,\u001b[0m \u001b[0mcallback\u001b[0m\u001b[0;34m=\u001b[0m\u001b[0malarm\u001b[0m\u001b[0;34m)\u001b[0m\u001b[0;34m\u001b[0m\u001b[0;34m\u001b[0m\u001b[0m\n",
      "\u001b[0;31mAssertionError\u001b[0m: Drift alarm!"
     ]
    }
   ],
   "source": [
    "# call it with drifted inputs...\n",
    "model(batch_drifted)"
   ]
  },
  {
   "cell_type": "code",
   "execution_count": 11,
   "id": "raising-lighter",
   "metadata": {},
   "outputs": [
    {
     "data": {
      "image/png": "[encoded data removed]",
      "text/plain": [
       "<Figure size 432x288 with 1 Axes>"
      ]
     },
     "metadata": {
      "needs_background": "light"
     },
     "output_type": "display_data"
    }
   ],
   "source": [
    "mm.plot()"
   ]
  },
  {
   "cell_type": "code",
   "execution_count": null,
   "id": "acknowledged-harmony",
   "metadata": {},
   "outputs": [],
   "source": []
  },
  {
   "cell_type": "code",
   "execution_count": null,
   "id": "administrative-grass",
   "metadata": {},
   "outputs": [],
   "source": []
  }
 ],
 "metadata": {
  "kernelspec": {
   "display_name": "Python 3",
   "language": "python",
   "name": "python3"
  },
  "language_info": {
   "codemirror_mode": {
    "name": "ipython",
    "version": 3
   },
   "file_extension": ".py",
   "mimetype": "text/x-python",
   "name": "python",
   "nbconvert_exporter": "python",
   "pygments_lexer": "ipython3",
   "version": "3.9.1+"
  }
 },
 "nbformat": 4,
 "nbformat_minor": 5
}
